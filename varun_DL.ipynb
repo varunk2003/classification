{
 "cells": [
  {
   "cell_type": "code",
   "execution_count": 2,
   "metadata": {
    "_cell_guid": "b1076dfc-b9ad-4769-8c92-a6c4dae69d19",
    "_uuid": "8f2839f25d086af736a60e9eeb907d3b93b6e0e5",
    "execution": {
     "iopub.execute_input": "2023-04-20T09:10:21.221148Z",
     "iopub.status.busy": "2023-04-20T09:10:21.220771Z",
     "iopub.status.idle": "2023-04-20T09:10:21.320666Z",
     "shell.execute_reply": "2023-04-20T09:10:21.319441Z",
     "shell.execute_reply.started": "2023-04-20T09:10:21.221114Z"
    },
    "id": "tkucCB-KNpVC"
   },
   "outputs": [],
   "source": [
    "import numpy as np\n",
    "import pandas as pd\n",
    "import matplotlib.pyplot as plt\n",
    "import matplotlib.image as mpimg\n",
    "import random\n",
    "import os\n",
    "import tensorflow as tf\n",
    "from tensorflow.keras.preprocessing.image import ImageDataGenerator\n",
    "from tensorflow.keras.models import Sequential\n",
    "from keras.preprocessing import image\n",
    "from keras.layers import Conv2D, MaxPooling2D, GlobalAveragePooling2D, Flatten, Dense, Dropout\n",
    "import pathlib"
   ]
  },
  {
   "cell_type": "code",
   "execution_count": 3,
   "metadata": {
    "execution": {
     "iopub.execute_input": "2023-04-20T07:55:59.903332Z",
     "iopub.status.busy": "2023-04-20T07:55:59.902898Z",
     "iopub.status.idle": "2023-04-20T07:56:00.888552Z",
     "shell.execute_reply": "2023-04-20T07:56:00.887268Z",
     "shell.execute_reply.started": "2023-04-20T07:55:59.903284Z"
    },
    "id": "eoPQJR2tNpVJ"
   },
   "outputs": [],
   "source": [
    "train_dir = pathlib.Path(\"C:/Users/tamar/Downloads/archive (1)/images/train\")\n",
    "test_dir = pathlib.Path(\"C:/Users/tamar/Downloads/archive (1)/images/test\")"
   ]
  },
  {
   "cell_type": "code",
   "execution_count": 4,
   "metadata": {
    "id": "0dpuqDXaNpVK"
   },
   "outputs": [],
   "source": [
    "tf.random.set_seed(42)\n",
    "generator = ImageDataGenerator(rescale = 1./255.,\n",
    "                              horizontal_flip=True,\n",
    "                              vertical_flip=False,\n",
    "                              zoom_range=0.05,\n",
    "                              rotation_range=25)"
   ]
  },
  {
   "cell_type": "code",
   "execution_count": 5,
   "metadata": {
    "execution": {
     "iopub.execute_input": "2023-04-20T07:56:00.891323Z",
     "iopub.status.busy": "2023-04-20T07:56:00.890892Z",
     "iopub.status.idle": "2023-04-20T07:56:01.870755Z",
     "shell.execute_reply": "2023-04-20T07:56:01.86953Z",
     "shell.execute_reply.started": "2023-04-20T07:56:00.891275Z"
    },
    "id": "5NhY7T8UNpVL",
    "outputId": "8cf06d49-8801-477d-d8c5-fa179e21b326"
   },
   "outputs": [
    {
     "name": "stdout",
     "output_type": "stream",
     "text": [
      "Found 532 images belonging to 8 classes.\n",
      "Found 167 images belonging to 8 classes.\n"
     ]
    }
   ],
   "source": [
    "train_data = generator.flow_from_directory(train_dir,\n",
    "                                               batch_size=32,\n",
    "                                               target_size=(224, 224),\n",
    "                                               class_mode=\"categorical\",\n",
    "                                               seed=42)\n",
    "\n",
    "test_data = generator.flow_from_directory(test_dir,\n",
    "                                               batch_size=32,\n",
    "                                               target_size=(224, 224),\n",
    "                                               class_mode=\"categorical\",\n",
    "                                               seed=42)"
   ]
  },
  {
   "cell_type": "code",
   "execution_count": 6,
   "metadata": {
    "execution": {
     "iopub.execute_input": "2023-04-20T07:56:01.874688Z",
     "iopub.status.busy": "2023-04-20T07:56:01.87426Z",
     "iopub.status.idle": "2023-04-20T07:56:02.906039Z",
     "shell.execute_reply": "2023-04-20T07:56:02.904825Z",
     "shell.execute_reply.started": "2023-04-20T07:56:01.874645Z"
    },
    "id": "DLP5UQ3dNpVM"
   },
   "outputs": [],
   "source": [
    "resnet_url = \"https://tfhub.dev/google/imagenet/resnet_v2_50/feature_vector/4\"\n"
   ]
  },
  {
   "cell_type": "code",
   "execution_count": 7,
   "metadata": {
    "execution": {
     "iopub.execute_input": "2023-04-20T07:56:28.708072Z",
     "iopub.status.busy": "2023-04-20T07:56:28.707609Z",
     "iopub.status.idle": "2023-04-20T07:56:28.748497Z",
     "shell.execute_reply": "2023-04-20T07:56:28.747032Z",
     "shell.execute_reply.started": "2023-04-20T07:56:28.708024Z"
    },
    "id": "TMT9AFK-NpVM"
   },
   "outputs": [],
   "source": [
    "from tensorflow.keras.layers import Dropout, BatchNormalization\n",
    "import tensorflow_hub as hub\n",
    "feature_extractor_layer = hub.KerasLayer(resnet_url,\n",
    "                                           trainable=False,\n",
    "                                           name='feature_extraction_layer',\n",
    "                                           input_shape=(224, 224, 3))"
   ]
  },
  {
   "cell_type": "code",
   "execution_count": 8,
   "metadata": {
    "execution": {
     "iopub.execute_input": "2023-04-20T07:56:38.124707Z",
     "iopub.status.busy": "2023-04-20T07:56:38.12428Z",
     "iopub.status.idle": "2023-04-20T07:56:38.133028Z",
     "shell.execute_reply": "2023-04-20T07:56:38.131826Z",
     "shell.execute_reply.started": "2023-04-20T07:56:38.124661Z"
    },
    "id": "_cgcUQLYNpVN"
   },
   "outputs": [],
   "source": [
    "from tensorflow.keras import layers"
   ]
  },
  {
   "cell_type": "code",
   "execution_count": 9,
   "metadata": {
    "execution": {
     "iopub.execute_input": "2023-04-20T07:56:44.706737Z",
     "iopub.status.busy": "2023-04-20T07:56:44.706341Z",
     "iopub.status.idle": "2023-04-20T07:56:44.713382Z",
     "shell.execute_reply": "2023-04-20T07:56:44.71227Z",
     "shell.execute_reply.started": "2023-04-20T07:56:44.706702Z"
    },
    "id": "yDal8-WzNpVO"
   },
   "outputs": [],
   "source": [
    "resnet_model = tf.keras.Sequential([\n",
    "    feature_extractor_layer,\n",
    "    tf.keras.layers.Dropout(.2),\n",
    "    tf.keras.layers.Dense(512,  activation=\"relu\"),\n",
    "    tf.keras.layers.Dense(256,  activation=\"relu\"),\n",
    "    tf.keras.layers.BatchNormalization(),\n",
    "    tf.keras.layers.Dropout(.2),\n",
    "    tf.keras.layers.Dense(128,  activation=\"relu\"),\n",
    "    layers.Dense(8, activation='softmax', name='output_layer') # create our own output layer\n",
    "  ])"
   ]
  },
  {
   "cell_type": "code",
   "execution_count": 10,
   "metadata": {
    "execution": {
     "iopub.execute_input": "2023-04-20T07:56:47.67395Z",
     "iopub.status.busy": "2023-04-20T07:56:47.673477Z",
     "iopub.status.idle": "2023-04-20T07:56:48.100413Z",
     "shell.execute_reply": "2023-04-20T07:56:48.097759Z",
     "shell.execute_reply.started": "2023-04-20T07:56:47.673909Z"
    },
    "id": "mCHF7XwYNpVP"
   },
   "outputs": [],
   "source": [
    "resnet_model.compile(loss='categorical_crossentropy',\n",
    "                     optimizer=tf.keras.optimizers.Adam(),\n",
    "                     metrics=['accuracy'])"
   ]
  },
  {
   "cell_type": "code",
   "execution_count": 11,
   "metadata": {
    "execution": {
     "iopub.execute_input": "2023-04-20T07:56:51.738191Z",
     "iopub.status.busy": "2023-04-20T07:56:51.736926Z",
     "iopub.status.idle": "2023-04-20T07:56:51.745139Z",
     "shell.execute_reply": "2023-04-20T07:56:51.743747Z",
     "shell.execute_reply.started": "2023-04-20T07:56:51.738151Z"
    },
    "id": "xBjPXCaLNpVQ",
    "outputId": "539f5d17-edff-45a9-898e-e3883d658bb3"
   },
   "outputs": [
    {
     "name": "stdout",
     "output_type": "stream",
     "text": [
      "Epoch 1/5\n",
      "17/17 [==============================] - 63s 3s/step - loss: 1.3367 - accuracy: 0.5658 - val_loss: 0.8217 - val_accuracy: 0.7186\n",
      "Epoch 2/5\n",
      "17/17 [==============================] - 47s 3s/step - loss: 0.5013 - accuracy: 0.8421 - val_loss: 0.6020 - val_accuracy: 0.8024\n",
      "Epoch 3/5\n",
      "17/17 [==============================] - 52s 3s/step - loss: 0.3552 - accuracy: 0.8797 - val_loss: 0.5145 - val_accuracy: 0.8563\n",
      "Epoch 4/5\n",
      "17/17 [==============================] - 49s 3s/step - loss: 0.2569 - accuracy: 0.9286 - val_loss: 0.4588 - val_accuracy: 0.8802\n",
      "Epoch 5/5\n",
      "17/17 [==============================] - 61s 4s/step - loss: 0.2005 - accuracy: 0.9380 - val_loss: 0.4956 - val_accuracy: 0.8623\n"
     ]
    }
   ],
   "source": [
    "resnet_model_history = resnet_model.fit(train_data,\n",
    "                        epochs=5,\n",
    "                        steps_per_epoch=len(train_data),\n",
    "                        validation_data=test_data)"
   ]
  },
  {
   "cell_type": "code",
   "execution_count": 12,
   "metadata": {
    "execution": {
     "iopub.execute_input": "2023-04-20T07:56:54.538464Z",
     "iopub.status.busy": "2023-04-20T07:56:54.537835Z",
     "iopub.status.idle": "2023-04-20T07:56:54.792156Z",
     "shell.execute_reply": "2023-04-20T07:56:54.788135Z",
     "shell.execute_reply.started": "2023-04-20T07:56:54.538424Z"
    },
    "id": "Dhe5PA9ZNpVQ",
    "outputId": "ef0a2f30-250b-4da6-cdbf-bd999a665692"
   },
   "outputs": [
    {
     "name": "stdout",
     "output_type": "stream",
     "text": [
      "6/6 [==============================] - 12s 2s/step - loss: 0.5532 - accuracy: 0.8443\n"
     ]
    },
    {
     "data": {
      "text/plain": [
       "[0.5531556606292725, 0.8443113565444946]"
      ]
     },
     "execution_count": 12,
     "metadata": {},
     "output_type": "execute_result"
    }
   ],
   "source": [
    "resnet_model.evaluate(test_data)"
   ]
  },
  {
   "cell_type": "code",
   "execution_count": 14,
   "metadata": {
    "execution": {
     "iopub.execute_input": "2023-04-20T07:56:58.416398Z",
     "iopub.status.busy": "2023-04-20T07:56:58.41599Z",
     "iopub.status.idle": "2023-04-20T07:56:58.42601Z",
     "shell.execute_reply": "2023-04-20T07:56:58.424804Z",
     "shell.execute_reply.started": "2023-04-20T07:56:58.416359Z"
    },
    "id": "O3HO3DDCNpVR",
    "outputId": "b262e866-6e26-4dbd-9acb-d1c3d8029560"
   },
   "outputs": [
    {
     "data": {
      "text/plain": [
       "<AxesSubplot:>"
      ]
     },
     "execution_count": 14,
     "metadata": {},
     "output_type": "execute_result"
    },
    {
     "data": {
      "image/png": "[encoded data removed]",
      "text/plain": [
       "<Figure size 640x480 with 1 Axes>"
      ]
     },
     "metadata": {},
     "output_type": "display_data"
    }
   ],
   "source": [
    "pd.DataFrame(resnet_model_history.history).plot()"
   ]
  },
  {
   "cell_type": "markdown",
   "metadata": {
    "id": "letflf3QNpVR"
   },
   "source": []
  },
  {
   "cell_type": "code",
   "execution_count": 15,
   "metadata": {
    "id": "A9ONLf4LNpVS"
   },
   "outputs": [],
   "source": [
    "img0=\"star1.jpeg\"\n",
    "img1='gold.jpeg'\n",
    "img2='harbor.jpg'\n",
    "img3='jelly.jpeg'\n",
    "img4='lobster.jpeg'\n",
    "img5='oyster.jpeg'\n",
    "img6='seatur.jpeg'\n",
    "img7=\"squid.jpeg\"\n",
    "\n"
   ]
  },
  {
   "cell_type": "code",
   "execution_count": 16,
   "metadata": {
    "execution": {
     "iopub.execute_input": "2023-04-20T07:57:00.967414Z",
     "iopub.status.busy": "2023-04-20T07:57:00.966675Z",
     "iopub.status.idle": "2023-04-20T07:57:00.974534Z",
     "shell.execute_reply": "2023-04-20T07:57:00.97338Z",
     "shell.execute_reply.started": "2023-04-20T07:57:00.967374Z"
    },
    "id": "X6OBayy2NpVS",
    "outputId": "6aa1b794-002b-4460-fc48-623f4f4fdb77"
   },
   "outputs": [
    {
     "data": {
      "image/png": "[encoded data removed]",
      "text/plain": [
       "<PIL.Image.Image image mode=RGB size=224x224>"
      ]
     },
     "execution_count": 16,
     "metadata": {},
     "output_type": "execute_result"
    }
   ],
   "source": [
    "import PIL.Image as Image\n",
    "pred_image=Image.open(img6).resize((224,224))\n",
    "pred_image"
   ]
  },
  {
   "cell_type": "code",
   "execution_count": 17,
   "metadata": {
    "execution": {
     "iopub.execute_input": "2023-04-20T09:25:59.789621Z",
     "iopub.status.busy": "2023-04-20T09:25:59.788516Z",
     "iopub.status.idle": "2023-04-20T09:25:59.795192Z",
     "shell.execute_reply": "2023-04-20T09:25:59.79375Z",
     "shell.execute_reply.started": "2023-04-20T09:25:59.789564Z"
    },
    "id": "DdhbofbYNpVS"
   },
   "outputs": [],
   "source": [
    "pred_image=np.array(pred_image)/255.0\n"
   ]
  },
  {
   "cell_type": "raw",
   "metadata": {
    "id": "uqYugzuNNpVT"
   },
   "source": [
    "import numpy as np\n",
    "from keras.utils import load_img, img_to_array\n",
    "test = img_to_array(pred_image)\n",
    "test = np.expand_dims(tench, axis=0)\n",
    "test.shape"
   ]
  },
  {
   "cell_type": "code",
   "execution_count": 18,
   "metadata": {
    "execution": {
     "iopub.execute_input": "2023-04-20T09:26:06.020356Z",
     "iopub.status.busy": "2023-04-20T09:26:06.019567Z",
     "iopub.status.idle": "2023-04-20T09:26:06.056637Z",
     "shell.execute_reply": "2023-04-20T09:26:06.055262Z",
     "shell.execute_reply.started": "2023-04-20T09:26:06.020314Z"
    },
    "id": "2snnMnQlNpVT",
    "outputId": "48595b0f-5dfa-4882-cda6-46f6732eb6d5"
   },
   "outputs": [
    {
     "name": "stdout",
     "output_type": "stream",
     "text": [
      "1/1 [==============================] - 1s 691ms/step\n"
     ]
    }
   ],
   "source": [
    "result1 = resnet_model.predict(pred_image[np.newaxis,...])\n",
    "max=np.argmax(result1)"
   ]
  },
  {
   "cell_type": "code",
   "execution_count": 19,
   "metadata": {},
   "outputs": [
    {
     "data": {
      "text/plain": [
       "5"
      ]
     },
     "execution_count": 19,
     "metadata": {},
     "output_type": "execute_result"
    }
   ],
   "source": [
    "max"
   ]
  },
  {
   "cell_type": "code",
   "execution_count": 20,
   "metadata": {
    "id": "a7mIXVs0NpVT"
   },
   "outputs": [],
   "source": [
    "res=[\"GOld Fish\",\"Harbor Heal\",\"Jelly Fish\",\"Lobster\",\"Oyster\",\"Sea Turtle\",\"Squid\",\"Star Fish\"]"
   ]
  },
  {
   "cell_type": "code",
   "execution_count": 21,
   "metadata": {
    "id": "WMRxWwU3NpVU",
    "outputId": "18f7c5b6-916c-4098-b891-1b7dc26b06e9"
   },
   "outputs": [
    {
     "data": {
      "text/plain": [
       "'Sea Turtle'"
      ]
     },
     "execution_count": 21,
     "metadata": {},
     "output_type": "execute_result"
    }
   ],
   "source": [
    "res[max]"
   ]
  },
  {
   "cell_type": "code",
   "execution_count": 22,
   "metadata": {},
   "outputs": [
    {
     "name": "stderr",
     "output_type": "stream",
     "text": [
      "C:\\Users\\tamar\\anaconda3\\lib\\site-packages\\keras\\src\\engine\\training.py:3000: UserWarning: You are saving your model as an HDF5 file via `model.save()`. This file format is considered legacy. We recommend using instead the native Keras format, e.g. `model.save('my_model.keras')`.\n",
      "  saving_api.save_model(\n"
     ]
    }
   ],
   "source": [
    "resnet_model.save(\"C:/Users/tamar/Downloads/varun/model.h5\")"
   ]
  },
  {
   "cell_type": "code",
   "execution_count": null,
   "metadata": {},
   "outputs": [],
   "source": []
  }
 ],
 "metadata": {
  "colab": {
   "provenance": []
  },
  "kernelspec": {
   "display_name": "Python 3 (ipykernel)",
   "language": "python",
   "name": "python3"
  },
  "language_info": {
   "codemirror_mode": {
    "name": "ipython",
    "version": 3
   },
   "file_extension": ".py",
   "mimetype": "text/x-python",
   "name": "python",
   "nbconvert_exporter": "python",
   "pygments_lexer": "ipython3",
   "version": "3.9.13"
  }
 },
 "nbformat": 4,
 "nbformat_minor": 1
}
